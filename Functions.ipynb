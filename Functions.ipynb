{
 "cells": [
  {
   "cell_type": "code",
   "execution_count": 1,
   "metadata": {},
   "outputs": [],
   "source": [
    "import numpy as np \n",
    "import pandas as pd "
   ]
  },
  {
   "cell_type": "markdown",
   "metadata": {},
   "source": [
    "# is_on_even_position"
   ]
  },
  {
   "cell_type": "code",
   "execution_count": 14,
   "metadata": {},
   "outputs": [
    {
     "data": {
      "text/plain": [
       "True"
      ]
     },
     "execution_count": 14,
     "metadata": {},
     "output_type": "execute_result"
    }
   ],
   "source": [
    "tab = [2,3,4,5,6]\n",
    "def is_on_even_position(tab, val):\n",
    "    try :\n",
    "        return True if (tab.index(val)+1)%2==0 else False\n",
    "    except ValueError :\n",
    "        return False \n",
    "is_on_even_position(tab,3)"
   ]
  },
  {
   "cell_type": "markdown",
   "metadata": {},
   "source": [
    "# is_bool"
   ]
  },
  {
   "cell_type": "code",
   "execution_count": 3,
   "metadata": {},
   "outputs": [
    {
     "data": {
      "text/plain": [
       "True"
      ]
     },
     "execution_count": 3,
     "metadata": {},
     "output_type": "execute_result"
    }
   ],
   "source": [
    "def is_bool(i, j):\n",
    "    return i==1 or j==1 or i+j==1\n",
    "is_bool(-5,6)"
   ]
  },
  {
   "cell_type": "markdown",
   "metadata": {},
   "source": [
    "# Encode"
   ]
  },
  {
   "cell_type": "code",
   "execution_count": 4,
   "metadata": {},
   "outputs": [
    {
     "data": {
      "text/plain": [
       "'1p3q'"
      ]
     },
     "execution_count": 4,
     "metadata": {},
     "output_type": "execute_result"
    }
   ],
   "source": [
    "import copy\n",
    "\n",
    "def encode(plain_text):\n",
    "    PERMITTED_CHARS = \"abcdefghijklmnopqrstuvwxyz\" \n",
    "    max = 15000\n",
    "    string = \"\"\n",
    "    result = \"\"\n",
    "    counter = 0\n",
    "    letter = \"\"\n",
    "    if plain_text : \n",
    "        string = \"\".join(c for c in copy.deepcopy(plain_text) if c in PERMITTED_CHARS)\n",
    "    \n",
    "    if max >= len(string) and string:\n",
    "        for i in string :\n",
    "            if letter == \"\":\n",
    "                letter = i\n",
    "                counter = 1\n",
    "            elif letter == i :\n",
    "                counter += 1\n",
    "            else: \n",
    "                result = result + str(counter) + letter\n",
    "                letter = i\n",
    "                counter = 1\n",
    "    else : \n",
    "        return False\n",
    "    \n",
    "    return result + str(counter) + letter\n",
    "\n",
    "encode(\"...p.4.qqq\")"
   ]
  },
  {
   "cell_type": "markdown",
   "metadata": {},
   "source": [
    "# find_frequent_words"
   ]
  },
  {
   "cell_type": "code",
   "execution_count": 5,
   "metadata": {},
   "outputs": [
    {
     "data": {
      "text/plain": [
       "[('neural', 0.25), ('network', 0.375), ('deep', 0.25), ('learning', 0.125)]"
      ]
     },
     "execution_count": 5,
     "metadata": {},
     "output_type": "execute_result"
    }
   ],
   "source": [
    "from stop_words import get_stop_words\n",
    "from collections import namedtuple \n",
    "import numpy as np \n",
    "\n",
    "def find_frequent_words(sentence):\n",
    "    N = len(sentence)\n",
    "    TF = []\n",
    "    lower_words = \"\"\n",
    "    stop_words = get_stop_words('en')\n",
    "    symbols = \"!\\\"#$%&()*+-./:;<=>?@[\\]^_`{|}~\\n\"\n",
    "    processed_text = \"\"\n",
    "    \n",
    "    if sentence : \n",
    "        lower_words = \" \".join(sentence.lower().strip().split())\n",
    "        for i in symbols:\n",
    "            lower_words = lower_words.replace(i, '')\n",
    "        \n",
    "        lower_words = lower_words.split(\" \")\n",
    "        for word in lower_words:\n",
    "            if word not in stop_words and len(word) > 1:\n",
    "                processed_text = processed_text + \" \" + word\n",
    "                \n",
    "        \n",
    "    #On peut ajouter stemming\n",
    "    #On peut ajouter lemmatization\n",
    "    #Convertir les nombres\n",
    "    #processed_text = processed_text.strip().split(\" \")\n",
    "    \n",
    "    processed_text = processed_text.strip().split(\" \")\n",
    "    processed_text_unique = []\n",
    "\n",
    "    for word in processed_text:   #for each word in line.split()\n",
    "        if word not in processed_text_unique:    #if a word isn't in line.split            \n",
    "            processed_text_unique.append(word)   #append it.\n",
    "    \n",
    "    for w in processed_text_unique:\n",
    "        if w not in TF : \n",
    "            TF.append((w, (processed_text.count(w)/len(processed_text))))\n",
    "\n",
    "    return TF\n",
    "\n",
    "\n",
    "find_frequent_words(\"neural network deep neural network deep learning network\")"
   ]
  },
  {
   "cell_type": "markdown",
   "metadata": {},
   "source": [
    "# Hexa to Decimal"
   ]
  },
  {
   "cell_type": "code",
   "execution_count": 54,
   "metadata": {},
   "outputs": [
    {
     "data": {
      "text/plain": [
       "201"
      ]
     },
     "execution_count": 54,
     "metadata": {},
     "output_type": "execute_result"
    }
   ],
   "source": [
    "a = [\"A\", \"B\", \"C\", \"D\", \"E\", \"F\"]\n",
    "n = \"C9\"\n",
    "res = 0\n",
    "for i in range(len(n)):\n",
    "    if n[i].isdigit():\n",
    "        res += (int(n[i]) * (16**(len(n)-1-i)))\n",
    "    else:\n",
    "        res += ((10+a.index(n[i])) * (16**(len(n)-1-i)))\n",
    "res"
   ]
  },
  {
   "cell_type": "code",
   "execution_count": 8,
   "metadata": {},
   "outputs": [
    {
     "name": "stdout",
     "output_type": "stream",
     "text": [
      "hello\n",
      "hello\n"
     ]
    }
   ],
   "source": [
    "string = \"hlole\"\n",
    "len_string = len(string)\n",
    "new_string = \"\"\n",
    "\n",
    "for i in range (len_string//2) :\n",
    "    new_string += string[i] + string[-i-1]\n",
    "if (len_string % 2) != 0 :\n",
    "    new_string += string[len_string//2]\n",
    "\n",
    "print(new_string)\n",
    "\n",
    "## OR\n",
    "\n",
    "tokens = list(string)\n",
    "result = []\n",
    "\n",
    "while len(tokens) != 0:\n",
    "    result += tokens.pop(0)\n",
    "    if len(tokens) != 0 :\n",
    "        result += tokens.pop()\n",
    "\n",
    "print(''.join(result))"
   ]
  },
  {
   "cell_type": "code",
   "execution_count": 111,
   "metadata": {},
   "outputs": [
    {
     "name": "stdout",
     "output_type": "stream",
     "text": [
      "HyoaldiidlaoyH\n"
     ]
    }
   ],
   "source": [
    "s = \"Holiday\"\n",
    "tokens = list(s)\n",
    "result = []\n",
    "while len(tokens) != 0:\n",
    "    result += tokens.pop(0)\n",
    "    if len(tokens) != 0 :\n",
    "        result += tokens.pop()\n",
    "print(''.join(result) + ''.join(result)[::-1])"
   ]
  },
  {
   "cell_type": "code",
   "execution_count": 116,
   "metadata": {},
   "outputs": [
    {
     "name": "stdout",
     "output_type": "stream",
     "text": [
      "HyoaldiidlaoyH\n"
     ]
    }
   ],
   "source": [
    "print(''.join(i+j for i,j in zip(s,s[::-1])))"
   ]
  },
  {
   "cell_type": "markdown",
   "metadata": {},
   "source": [
    "# TAIL FUNCTION"
   ]
  },
  {
   "cell_type": "code",
   "execution_count": 9,
   "metadata": {},
   "outputs": [
    {
     "name": "stdout",
     "output_type": "stream",
     "text": [
      "\n",
      "Abusus enim multitudine hominum, quam tranquillis in rebus diutius rexit, ex agrestibus habitaculis urbes construxit multis opibus firmas et viribus, quarum ad praesens pleraeque licet Graecis nominibus appellentur, quae isdem ad arbitrium inposita sunt conditoris, primigenia tamen nomina non amittunt, quae eis Assyria lingua institutores veteres indiderunt.\n",
      "\n",
      "\n",
      "Antoine WANG LE BG\n"
     ]
    }
   ],
   "source": [
    "f = open(\"texte1.txt\", \"r\")\n",
    "brut = f.read()\n",
    "split_brut = brut.split('\\n')\n",
    "result = '\\n'.join(split_brut[-5:])\n",
    "print(result)\n",
    "##print('\\n'.join(f.read().split('\\n')[-5:]))\n",
    "f.close()"
   ]
  },
  {
   "cell_type": "code",
   "execution_count": 10,
   "metadata": {},
   "outputs": [
    {
     "name": "stdout",
     "output_type": "stream",
     "text": [
      "[42, 4, 186]\n",
      "['Treehouse', 'Python']\n",
      "more\n"
     ]
    }
   ],
   "source": [
    "my_list = [21, 2, 93]\n",
    "double = [x*2 for x in my_list]\n",
    "print(double)\n",
    "\n",
    "my_list2 = ['blog', 'Treehouse', 'Python', 'hi']\n",
    "morethan5 = [word for word in my_list2 if len(word)>=5]\n",
    "print(morethan5)\n",
    "\n",
    "x = 101\n",
    "print(\"more\") if x > 100 else print(\"less\") if x < 100 else print(\"equal\")"
   ]
  },
  {
   "cell_type": "markdown",
   "metadata": {},
   "source": [
    "# Find number of diagonals in n sided convex polygon"
   ]
  },
  {
   "cell_type": "code",
   "execution_count": 15,
   "metadata": {},
   "outputs": [],
   "source": [
    "def numberOfDiagonals(n):\n",
    "    return int(n * (n - 3) / 2)"
   ]
  },
  {
   "cell_type": "code",
   "execution_count": 27,
   "metadata": {},
   "outputs": [
    {
     "data": {
      "text/plain": [
       "0"
      ]
     },
     "execution_count": 27,
     "metadata": {},
     "output_type": "execute_result"
    }
   ],
   "source": [
    "def add_it_up(n):\n",
    "    try:\n",
    "        return sum([x for x in range(n+1)]) # ou sum(range(n+1))\n",
    "    except TypeError:\n",
    "        return 0\n",
    "add_it_up(\"d\")"
   ]
  },
  {
   "cell_type": "markdown",
   "metadata": {},
   "source": [
    "# Caesar Cipher"
   ]
  },
  {
   "cell_type": "code",
   "execution_count": 56,
   "metadata": {
    "scrolled": true
   },
   "outputs": [
    {
     "name": "stdout",
     "output_type": "stream",
     "text": [
      "abcdefghijklmnopqrstuvwxyz\n",
      "cdefghijklmnopqrstuvwxyz\n",
      "ab\n",
      "{97: 99, 98: 100, 99: 101, 100: 102, 101: 103, 102: 104, 103: 105, 104: 106, 105: 107, 106: 108, 107: 109, 108: 110, 109: 111, 110: 112, 111: 113, 112: 114, 113: 115, 114: 116, 115: 117, 116: 118, 117: 119, 118: 120, 119: 121, 120: 122, 121: 97, 122: 98}\n"
     ]
    },
    {
     "data": {
      "text/plain": [
       "'cdefg'"
      ]
     },
     "execution_count": 56,
     "metadata": {},
     "output_type": "execute_result"
    }
   ],
   "source": [
    "import string\n",
    "\n",
    "def caesar(plain_text, shift_num=1):\n",
    "    letters = string.ascii_lowercase\n",
    "    print(letters)\n",
    "    mask = letters[shift_num:] + letters[:shift_num]\n",
    "    print(letters[shift_num:])\n",
    "    print(letters[:shift_num])\n",
    "    trantab = str.maketrans(letters, mask)\n",
    "    print(trantab)\n",
    "    return plain_text.translate(trantab)\n",
    "\n",
    "caesar(\"abcde\", 2)"
   ]
  },
  {
   "cell_type": "code",
   "execution_count": 11,
   "metadata": {},
   "outputs": [
    {
     "ename": "TypeError",
     "evalue": "'tuple' object does not support item assignment",
     "output_type": "error",
     "traceback": [
      "\u001b[1;31m---------------------------------------------------------------------------\u001b[0m",
      "\u001b[1;31mTypeError\u001b[0m                                 Traceback (most recent call last)",
      "\u001b[1;32m<ipython-input-11-49a88098548d>\u001b[0m in \u001b[0;36m<module>\u001b[1;34m()\u001b[0m\n\u001b[0;32m      5\u001b[0m \u001b[1;32mfor\u001b[0m \u001b[0mc\u001b[0m \u001b[1;32min\u001b[0m \u001b[0mrange\u001b[0m\u001b[1;33m(\u001b[0m\u001b[0mlen\u001b[0m\u001b[1;33m(\u001b[0m\u001b[0mstring\u001b[0m\u001b[1;33m)\u001b[0m\u001b[1;33m-\u001b[0m\u001b[1;36m1\u001b[0m\u001b[1;33m)\u001b[0m\u001b[1;33m:\u001b[0m\u001b[1;33m\u001b[0m\u001b[0m\n\u001b[0;32m      6\u001b[0m     \u001b[1;32mif\u001b[0m \u001b[0mstring\u001b[0m\u001b[1;33m[\u001b[0m\u001b[0mc\u001b[0m\u001b[1;33m]\u001b[0m\u001b[1;33m<\u001b[0m\u001b[0mstring\u001b[0m\u001b[1;33m[\u001b[0m\u001b[0mc\u001b[0m\u001b[1;33m+\u001b[0m\u001b[1;36m1\u001b[0m\u001b[1;33m]\u001b[0m\u001b[1;33m:\u001b[0m\u001b[1;33m\u001b[0m\u001b[0m\n\u001b[1;32m----> 7\u001b[1;33m         \u001b[0mresult\u001b[0m\u001b[1;33m[\u001b[0m\u001b[1;36m0\u001b[0m\u001b[1;33m]\u001b[0m\u001b[1;33m+=\u001b[0m\u001b[1;34m\"d\"\u001b[0m\u001b[1;33m\u001b[0m\u001b[0m\n\u001b[0m",
      "\u001b[1;31mTypeError\u001b[0m: 'tuple' object does not support item assignment"
     ]
    }
   ],
   "source": [
    "s = \"abdelkader\"\n",
    "res = \"\"\n",
    "\n",
    "if len(s) > len(res):\n",
    "    \n"
   ]
  },
  {
   "cell_type": "code",
   "execution_count": 7,
   "metadata": {},
   "outputs": [
    {
     "ename": "NameError",
     "evalue": "name 'result1' is not defined",
     "output_type": "error",
     "traceback": [
      "\u001b[1;31m---------------------------------------------------------------------------\u001b[0m",
      "\u001b[1;31mNameError\u001b[0m                                 Traceback (most recent call last)",
      "\u001b[1;32m<ipython-input-7-bb6a0ab98e9c>\u001b[0m in \u001b[0;36m<module>\u001b[1;34m()\u001b[0m\n\u001b[0;32m      1\u001b[0m \u001b[0mresult\u001b[0m \u001b[1;33m=\u001b[0m \u001b[1;33m(\u001b[0m\u001b[1;34m\"z\"\u001b[0m\u001b[1;33m,\u001b[0m\u001b[1;36m0\u001b[0m\u001b[1;33m)\u001b[0m\u001b[1;33m\u001b[0m\u001b[0m\n\u001b[1;32m----> 2\u001b[1;33m \u001b[0mresult1\u001b[0m\u001b[1;33m\u001b[0m\u001b[0m\n\u001b[0m",
      "\u001b[1;31mNameError\u001b[0m: name 'result1' is not defined"
     ]
    }
   ],
   "source": [
    "result = (\"z\",0)\n",
    "result1"
   ]
  },
  {
   "cell_type": "code",
   "execution_count": 2,
   "metadata": {},
   "outputs": [],
   "source": [
    "def longestSuite():\n",
    "    pass"
   ]
  },
  {
   "cell_type": "markdown",
   "metadata": {},
   "source": [
    "# ZIP"
   ]
  },
  {
   "cell_type": "code",
   "execution_count": 42,
   "metadata": {},
   "outputs": [
    {
     "name": "stdout",
     "output_type": "stream",
     "text": [
      "[]\n",
      "{(3, 'three'), (2, 'two'), (1, 'one')}\n"
     ]
    }
   ],
   "source": [
    "number_list = [1, 2, 3]\n",
    "str_list = ['one', 'two', 'three']\n",
    "\n",
    "# No iterables are passed\n",
    "result = zip()\n",
    "\n",
    "# Converting iterator to list\n",
    "result_list = list(result)\n",
    "print(result_list)\n",
    "\n",
    "# Two iterables are passed\n",
    "result = zip(number_list, str_list)\n",
    "\n",
    "# Converting iterator to set\n",
    "result_set = set(result)\n",
    "print(result_set)"
   ]
  },
  {
   "cell_type": "code",
   "execution_count": 112,
   "metadata": {},
   "outputs": [
    {
     "name": "stdout",
     "output_type": "stream",
     "text": [
      "{(3, 'THREE'), (2, 'TWO'), (1, 'ONE')}\n",
      "{(1, 'one', 'ONE'), (2, 'two', 'TWO')}\n"
     ]
    }
   ],
   "source": [
    "numbersList = [1, 2, 3]\n",
    "str_list = ['one', 'two']\n",
    "numbers_tuple = ('ONE', 'TWO', 'THREE', 'FOUR')\n",
    "\n",
    "# Notice, the size of numbersList and numbers_tuple is different\n",
    "result = zip(numbersList, numbers_tuple)\n",
    "\n",
    "# Converting to set\n",
    "result_set = set(result)\n",
    "print(result_set)\n",
    "\n",
    "result = zip(numbersList, str_list, numbers_tuple)\n",
    "\n",
    "# Converting to set\n",
    "result_set = set(result)\n",
    "print(result_set)"
   ]
  },
  {
   "cell_type": "code",
   "execution_count": 61,
   "metadata": {},
   "outputs": [
    {
     "name": "stdout",
     "output_type": "stream",
     "text": [
      "\n",
      "1\n",
      "2 3\n",
      "4 5 6\n",
      "7 8 9 10\n"
     ]
    }
   ],
   "source": [
    "n = 4\n",
    "count = 0\n",
    "for i in range(n+1):\n",
    "    string = []\n",
    "    for k in range (i) : \n",
    "        count += 1\n",
    "        string.append(str(count))\n",
    "    print(\" \".join(string))"
   ]
  },
  {
   "cell_type": "code",
   "execution_count": 70,
   "metadata": {},
   "outputs": [
    {
     "name": "stdout",
     "output_type": "stream",
     "text": [
      "Hello\n",
      "olleH\n",
      "Hello\n",
      "olleH\n",
      "Hello\n"
     ]
    }
   ],
   "source": [
    "w = \"Hello\"\n",
    "c = \"D\"\n",
    "s = \" \" if c == \"S\" else \"\\n\"\n",
    "print(s.join([w[::(-1)**k] for k in range(len(w))]))"
   ]
  },
  {
   "cell_type": "code",
   "execution_count": 7,
   "metadata": {},
   "outputs": [
    {
     "name": "stdout",
     "output_type": "stream",
     "text": [
      "2 3 4\n",
      "3 4 5\n",
      "4 5 6\n"
     ]
    }
   ],
   "source": [
    "n = 3\n",
    "q = 2\n",
    "if q<0 : \n",
    "    a = [[str(q-k-i) for k in range (n)] for i in range(n)]\n",
    "else : \n",
    "    a = [[str(q+k+i) for k in range (n)] for i in range(n)]\n",
    "for t in a : \n",
    "    print(\" \".join(t))\n"
   ]
  },
  {
   "cell_type": "markdown",
   "metadata": {},
   "source": [
    "# Suite de Fibonacci "
   ]
  },
  {
   "cell_type": "code",
   "execution_count": 1,
   "metadata": {},
   "outputs": [
    {
     "name": "stdout",
     "output_type": "stream",
     "text": [
      "8\n",
      "[0, 1, 1, 2, 3, 5, 8]\n"
     ]
    }
   ],
   "source": [
    "x = [0,1]\n",
    "n = 7\n",
    "for k in range (2,n):\n",
    "    x.append(x[k-1]+x[k-2])\n",
    "print(x[-1])\n",
    "print(x)"
   ]
  },
  {
   "cell_type": "code",
   "execution_count": 6,
   "metadata": {},
   "outputs": [
    {
     "data": {
      "text/plain": [
       "13"
      ]
     },
     "execution_count": 6,
     "metadata": {},
     "output_type": "execute_result"
    }
   ],
   "source": [
    "def fibonacci(n):\n",
    "    if n <= 1:\n",
    "        return n \n",
    "    else:\n",
    "        return fibonacci(n-1) + fibonacci(n-2)\n",
    "fibonacci(7)"
   ]
  },
  {
   "cell_type": "markdown",
   "metadata": {},
   "source": [
    "# Factorial"
   ]
  },
  {
   "cell_type": "code",
   "execution_count": 3,
   "metadata": {},
   "outputs": [
    {
     "data": {
      "text/plain": [
       "3628800"
      ]
     },
     "execution_count": 3,
     "metadata": {},
     "output_type": "execute_result"
    }
   ],
   "source": [
    "def factorial(n):\n",
    "    if n == 0:\n",
    "        return 1\n",
    "    else:\n",
    "        return n*factorial(n-1)\n",
    "factorial(10)"
   ]
  },
  {
   "cell_type": "code",
   "execution_count": 26,
   "metadata": {},
   "outputs": [
    {
     "name": "stdout",
     "output_type": "stream",
     "text": [
      "True\n"
     ]
    }
   ],
   "source": [
    "n = [\"1\",\"2\",\"3\",\"2\"]\n",
    "print(str(sorted(n)!=n!=n[::-1]))"
   ]
  },
  {
   "cell_type": "code",
   "execution_count": 36,
   "metadata": {},
   "outputs": [
    {
     "name": "stdout",
     "output_type": "stream",
     "text": [
      "* * * \n",
      " * * *\n",
      "* * * \n",
      " * * *\n",
      "* * * \n",
      " * * *\n"
     ]
    }
   ],
   "source": [
    "n = 6\n",
    "t = \"\"\n",
    "for i in range(n):\n",
    "    t += \"*\" if i%2==0 else \" \"\n",
    "for i in range(n):\n",
    "    print(t) if i%2==0 else print(t[::-1])"
   ]
  },
  {
   "cell_type": "code",
   "execution_count": 50,
   "metadata": {},
   "outputs": [
    {
     "name": "stdout",
     "output_type": "stream",
     "text": [
      "abwpw\n"
     ]
    }
   ],
   "source": [
    "message = \"abvvvpvvvv\"\n",
    "\n",
    "s=\"\"\n",
    "count=0\n",
    "for i in message:\n",
    "    if i == \"v\":\n",
    "        if count == 0:\n",
    "            s+=\"w\"\n",
    "            count+=1\n",
    "    else:\n",
    "        s+=i\n",
    "        count=0\n",
    "print(s)"
   ]
  },
  {
   "cell_type": "code",
   "execution_count": 56,
   "metadata": {},
   "outputs": [
    {
     "data": {
      "text/plain": [
       "['q', 'd', 'q', 's', 'd', 's']"
      ]
     },
     "execution_count": 56,
     "metadata": {},
     "output_type": "execute_result"
    }
   ],
   "source": [
    "list(\"qdqsds\")\n",
    "[*\"qdqsds\"]"
   ]
  },
  {
   "cell_type": "code",
   "execution_count": 68,
   "metadata": {},
   "outputs": [
    {
     "name": "stdout",
     "output_type": "stream",
     "text": [
      "2 2\n"
     ]
    }
   ],
   "source": [
    "n = 5\n",
    "s = \"hello\"\n",
    "p = \"ehjlo\"\n",
    "c1 = c2 = 0\n",
    "p1 = p2 = \"\"\n",
    "for i,j in zip(s,p):\n",
    "    if i==j : \n",
    "        c1+=1\n",
    "    else : \n",
    "        p1+=i\n",
    "        p2+=j\n",
    "for i in p1:\n",
    "    c2+=1 if i in p2 else 0\n",
    "print(c1, c2)"
   ]
  },
  {
   "cell_type": "markdown",
   "metadata": {},
   "source": [
    "avec n 1, trouver le resultat max en utilisant que des * et +\n",
    "\n",
    "6 = 9\n",
    "\n",
    "10 = 36"
   ]
  },
  {
   "cell_type": "markdown",
   "metadata": {},
   "source": [
    "# SUDOKU"
   ]
  },
  {
   "cell_type": "code",
   "execution_count": null,
   "metadata": {},
   "outputs": [],
   "source": [
    "correct = [i for i in range(1, 10)]\n",
    "table = [[int(x) for x in input().split() ] for i in range(9)]\n",
    "\n",
    "def checkrow(t):\n",
    "    for g in table:\n",
    "        if sorted(g) != correct:\n",
    "            return False\n",
    "    return True\n",
    "\n",
    "def checkcol(t):\n",
    "    for i in range (9):\n",
    "        c = []\n",
    "        for j in range (9):\n",
    "            c.append(t[j][i])\n",
    "        if sorted(c) != correct:\n",
    "            return False\n",
    "    return True\n",
    "\n",
    "def checksub(t):\n",
    "    for x in range (0, 9, 3):\n",
    "        c = []\n",
    "        for i in range (3):\n",
    "            for j in range (3):\n",
    "                c.append(t[j+x][i+x])\n",
    "        if sorted(c) != correct:\n",
    "            return False\n",
    "    return True\n",
    "\n",
    "print(str(checkrow(table) and checkcol(table) and checksub(table)).lower())"
   ]
  },
  {
   "cell_type": "code",
   "execution_count": 6,
   "metadata": {},
   "outputs": [
    {
     "data": {
      "text/plain": [
       "[0, 1]"
      ]
     },
     "execution_count": 6,
     "metadata": {},
     "output_type": "execute_result"
    }
   ],
   "source": [
    "t = [i for i in range (10)]\n",
    "t[:2]"
   ]
  },
  {
   "cell_type": "code",
   "execution_count": 7,
   "metadata": {},
   "outputs": [
    {
     "data": {
      "text/plain": [
       "[0, 1, 2, 3, 4, 5, 6, 7, 8, 9]"
      ]
     },
     "execution_count": 7,
     "metadata": {},
     "output_type": "execute_result"
    }
   ],
   "source": [
    "t"
   ]
  },
  {
   "cell_type": "code",
   "execution_count": 29,
   "metadata": {},
   "outputs": [
    {
     "data": {
      "text/plain": [
       "'42572654 YES votes  49.673%'"
      ]
     },
     "execution_count": 29,
     "metadata": {},
     "output_type": "execute_result"
    }
   ],
   "source": [
    "yes_votes = 42_572_654\n",
    "no_votes = 43_132_495\n",
    "percentage = yes_votes / (yes_votes + no_votes)\n",
    "'{:8} YES votes  {:2.3%}'.format(yes_votes, percentage)"
   ]
  },
  {
   "cell_type": "code",
   "execution_count": 25,
   "metadata": {},
   "outputs": [
    {
     "data": {
      "text/plain": [
       "'Results of the 42572654 43132495'"
      ]
     },
     "execution_count": 25,
     "metadata": {},
     "output_type": "execute_result"
    }
   ],
   "source": [
    "f'Results of the {yes_votes} {no_votes}'"
   ]
  },
  {
   "cell_type": "code",
   "execution_count": 2,
   "metadata": {},
   "outputs": [
    {
     "name": "stdout",
     "output_type": "stream",
     "text": [
      "Results of the 1 1\n"
     ]
    }
   ],
   "source": [
    "print(f'Results of the repl{1} {1}')"
   ]
  },
  {
   "cell_type": "code",
   "execution_count": 12,
   "metadata": {},
   "outputs": [
    {
     "name": "stdout",
     "output_type": "stream",
     "text": [
      "(3, 1)\n"
     ]
    }
   ],
   "source": [
    "print(divmod(10,3))"
   ]
  },
  {
   "cell_type": "code",
   "execution_count": 22,
   "metadata": {
    "scrolled": true
   },
   "outputs": [
    {
     "data": {
      "text/plain": [
       "[1, 2, 3, 4]"
      ]
     },
     "execution_count": 22,
     "metadata": {},
     "output_type": "execute_result"
    }
   ],
   "source": [
    "a = [1,2,3,4,5]\n",
    "a[:-1]"
   ]
  },
  {
   "cell_type": "code",
   "execution_count": 24,
   "metadata": {},
   "outputs": [
    {
     "ename": "TypeError",
     "evalue": "'set' object is not callable",
     "output_type": "error",
     "traceback": [
      "\u001b[1;31m---------------------------------------------------------------------------\u001b[0m",
      "\u001b[1;31mTypeError\u001b[0m                                 Traceback (most recent call last)",
      "\u001b[1;32m<ipython-input-24-5f3a9989bd58>\u001b[0m in \u001b[0;36m<module>\u001b[1;34m()\u001b[0m\n\u001b[0;32m      1\u001b[0m \u001b[0mlst\u001b[0m \u001b[1;33m=\u001b[0m \u001b[1;33m[\u001b[0m\u001b[1;34m'foo.py'\u001b[0m\u001b[1;33m,\u001b[0m \u001b[1;34m'bar.py'\u001b[0m\u001b[1;33m,\u001b[0m \u001b[1;34m'baz.py'\u001b[0m\u001b[1;33m,\u001b[0m \u001b[1;34m'qux.py'\u001b[0m\u001b[1;33m,\u001b[0m \u001b[0mEllipsis\u001b[0m\u001b[1;33m]\u001b[0m\u001b[1;33m\u001b[0m\u001b[0m\n\u001b[1;32m----> 2\u001b[1;33m \u001b[0ms\u001b[0m \u001b[1;33m=\u001b[0m \u001b[0mset\u001b[0m\u001b[1;33m(\u001b[0m\u001b[0mlst\u001b[0m\u001b[1;33m)\u001b[0m\u001b[1;33m\u001b[0m\u001b[0m\n\u001b[0m",
      "\u001b[1;31mTypeError\u001b[0m: 'set' object is not callable"
     ]
    }
   ],
   "source": [
    "lst = ['foo.py', 'bar.py', 'baz.py', 'qux.py', Ellipsis]\n",
    "s = set(lst)"
   ]
  },
  {
   "cell_type": "code",
   "execution_count": 5,
   "metadata": {},
   "outputs": [
    {
     "name": "stdout",
     "output_type": "stream",
     "text": [
      "{2, 3, 4, 5, '4'}\n"
     ]
    }
   ],
   "source": [
    "a = [\"4\",2,\"4\",3,4,5,5]\n",
    "seta = set(a)\n",
    "print(seta)"
   ]
  },
  {
   "cell_type": "code",
   "execution_count": 13,
   "metadata": {},
   "outputs": [
    {
     "name": "stdout",
     "output_type": "stream",
     "text": [
      "('alpha', 'beta')\n",
      "{'a': 1, 'b': 2}\n",
      "alpha\n",
      "1\n"
     ]
    }
   ],
   "source": [
    "def test(*args, **kargs):\n",
    "    print(args)\n",
    "    print(kargs)\n",
    "    print(args[0])\n",
    "    print(kargs.get('a'))\n",
    "\n",
    "alpha = 'alpha'\n",
    "beta = 'beta'\n",
    "test(alpha, beta, a=1, b=2)"
   ]
  },
  {
   "cell_type": "markdown",
   "metadata": {},
   "source": [
    "# Dictionaries"
   ]
  },
  {
   "cell_type": "code",
   "execution_count": 37,
   "metadata": {},
   "outputs": [
    {
     "name": "stdout",
     "output_type": "stream",
     "text": [
      "a 1\n",
      "b 2\n",
      "c 3\n",
      "d 4\n",
      "e 5\n"
     ]
    }
   ],
   "source": [
    "mydict = {'a':1, 'b':2, 'c':3, 'd':4, 'e':5}\n",
    "for key in mydict:\n",
    "    print(key, mydict[key])"
   ]
  },
  {
   "cell_type": "code",
   "execution_count": 49,
   "metadata": {},
   "outputs": [
    {
     "name": "stdout",
     "output_type": "stream",
     "text": [
      "0 j\n",
      "1 e\n",
      "2 s\n",
      "3 u\n",
      "4 i\n",
      "5 s\n",
      "6 a\n",
      "7 n\n",
      "8 t\n",
      "9 o\n",
      "10 i\n",
      "11 n\n",
      "12 e\n",
      "{('j', 1), ('e', 2)}\n"
     ]
    }
   ],
   "source": [
    "a = \"jesuisantoine\"\n",
    "b = [1,2]\n",
    "for index, e in enumerate(a):\n",
    "    print(index, e)\n",
    "print(set(zip(a,b)))"
   ]
  },
  {
   "cell_type": "code",
   "execution_count": 52,
   "metadata": {},
   "outputs": [
    {
     "data": {
      "text/plain": [
       "1"
      ]
     },
     "execution_count": 52,
     "metadata": {},
     "output_type": "execute_result"
    }
   ],
   "source": [
    "import copy \n",
    "m = 1\n",
    "n = copy.copy(m)\n",
    "c = m\n",
    "m = 3\n",
    "c\n"
   ]
  },
  {
   "cell_type": "code",
   "execution_count": 1,
   "metadata": {},
   "outputs": [
    {
     "data": {
      "text/plain": [
       "207"
      ]
     },
     "execution_count": 1,
     "metadata": {},
     "output_type": "execute_result"
    }
   ],
   "source": [
    "import gc \n",
    "c = gc.collect()\n",
    "c"
   ]
  },
  {
   "cell_type": "code",
   "execution_count": 4,
   "metadata": {},
   "outputs": [
    {
     "ename": "AttributeError",
     "evalue": "'toto' object has no attribute 'a'",
     "output_type": "error",
     "traceback": [
      "\u001b[1;31m---------------------------------------------------------------------------\u001b[0m",
      "\u001b[1;31mAttributeError\u001b[0m                            Traceback (most recent call last)",
      "\u001b[1;32m<ipython-input-4-356288ec646b>\u001b[0m in \u001b[0;36m<module>\u001b[1;34m()\u001b[0m\n\u001b[0;32m      1\u001b[0m \u001b[1;32mclass\u001b[0m \u001b[0mtoto\u001b[0m\u001b[1;33m(\u001b[0m\u001b[1;33m)\u001b[0m\u001b[1;33m:\u001b[0m\u001b[1;33m\u001b[0m\u001b[0m\n\u001b[0;32m      2\u001b[0m     \u001b[0m__a\u001b[0m \u001b[1;33m=\u001b[0m \u001b[1;36m3\u001b[0m\u001b[1;33m\u001b[0m\u001b[0m\n\u001b[1;32m----> 3\u001b[1;33m \u001b[0mtoto\u001b[0m\u001b[1;33m(\u001b[0m\u001b[1;33m)\u001b[0m\u001b[1;33m.\u001b[0m\u001b[0ma\u001b[0m\u001b[1;33m\u001b[0m\u001b[0m\n\u001b[0m",
      "\u001b[1;31mAttributeError\u001b[0m: 'toto' object has no attribute 'a'"
     ]
    }
   ],
   "source": [
    "class toto():\n",
    "    __a = 3\n",
    "toto().a"
   ]
  }
 ],
 "metadata": {
  "kernelspec": {
   "display_name": "Python 3",
   "language": "python",
   "name": "python3"
  },
  "language_info": {
   "codemirror_mode": {
    "name": "ipython",
    "version": 3
   },
   "file_extension": ".py",
   "mimetype": "text/x-python",
   "name": "python",
   "nbconvert_exporter": "python",
   "pygments_lexer": "ipython3",
   "version": "3.7.0"
  }
 },
 "nbformat": 4,
 "nbformat_minor": 2
}
